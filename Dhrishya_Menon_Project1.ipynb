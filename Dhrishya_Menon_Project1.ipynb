{
  "nbformat": 4,
  "nbformat_minor": 0,
  "metadata": {
    "colab": {
      "provenance": []
    },
    "kernelspec": {
      "name": "python3",
      "display_name": "Python 3"
    },
    "language_info": {
      "name": "python"
    }
  },
  "cells": [
    {
      "cell_type": "markdown",
      "source": [
        "In this project, you will work with a dataset containing information about wine quality and their price. You will use NumPy, Pandas, Matplotlib, and Scikitlearn libraries for data analysis and creating a Regression model for predicting ***price of a wine***.\n",
        "\n",
        "**Dataset Details:**\n",
        "\n",
        "*year:* Year\n",
        "\n",
        "*rating:* Rating\n",
        "\n",
        "*num_reviews:* Number of reviews\n",
        "\n",
        "*body:* Richness score of the wine\n",
        "\n",
        "*acidity:* Acidity Score\n",
        "\n",
        "*price:* Price\n",
        "\n",
        "\n",
        "**Datasets Locations and Names:** Canvas -> Modules -> Week 5 -> Datasets -> \"wines.csv\".\n",
        "\n",
        "Please save your Googgle Colab project as FirstName_LastName_Project1.ipynb and submit (upload) your source code to Canvas."
      ],
      "metadata": {
        "id": "hshBmAW5LpUQ"
      }
    },
    {
      "cell_type": "markdown",
      "source": [
        "# Code\n"
      ],
      "metadata": {
        "id": "42vqVZhcyXUF"
      }
    },
    {
      "cell_type": "code",
      "source": [
        "#Importing the necessary libraries\n",
        "import matplotlib.pyplot as plt\n",
        "import numpy as np\n",
        "import pandas as pd\n",
        "\n",
        "#Reding the .csv file\n",
        "wine = pd.read_csv(\"wines.csv\")"
      ],
      "metadata": {
        "id": "x8jqK6xkWff2"
      },
      "execution_count": 1,
      "outputs": []
    },
    {
      "cell_type": "code",
      "source": [
        "#Display first 5 rows of the dataset\n",
        "wine.head(5)"
      ],
      "metadata": {
        "colab": {
          "base_uri": "https://localhost:8080/",
          "height": 206
        },
        "id": "ZCMWeye-pwRc",
        "outputId": "65cc8712-f279-4d92-b4ac-62d04ca8a60c"
      },
      "execution_count": 2,
      "outputs": [
        {
          "output_type": "execute_result",
          "data": {
            "text/plain": [
              "     year  rating  num_reviews  body  acidity   price\n",
              "0  2013.0     4.9           58   5.0      3.0  995.00\n",
              "1  2018.0     4.9           31   4.0      2.0  313.50\n",
              "2  2009.0     4.8         1793   5.0      3.0  324.95\n",
              "3  1999.0     4.8         1705   5.0      3.0  692.96\n",
              "4  1996.0     4.8         1309   5.0      3.0  778.06"
            ],
            "text/html": [
              "\n",
              "  <div id=\"df-d3f5c0ff-cfd1-416e-b54f-b433ac6ce53e\" class=\"colab-df-container\">\n",
              "    <div>\n",
              "<style scoped>\n",
              "    .dataframe tbody tr th:only-of-type {\n",
              "        vertical-align: middle;\n",
              "    }\n",
              "\n",
              "    .dataframe tbody tr th {\n",
              "        vertical-align: top;\n",
              "    }\n",
              "\n",
              "    .dataframe thead th {\n",
              "        text-align: right;\n",
              "    }\n",
              "</style>\n",
              "<table border=\"1\" class=\"dataframe\">\n",
              "  <thead>\n",
              "    <tr style=\"text-align: right;\">\n",
              "      <th></th>\n",
              "      <th>year</th>\n",
              "      <th>rating</th>\n",
              "      <th>num_reviews</th>\n",
              "      <th>body</th>\n",
              "      <th>acidity</th>\n",
              "      <th>price</th>\n",
              "    </tr>\n",
              "  </thead>\n",
              "  <tbody>\n",
              "    <tr>\n",
              "      <th>0</th>\n",
              "      <td>2013.0</td>\n",
              "      <td>4.9</td>\n",
              "      <td>58</td>\n",
              "      <td>5.0</td>\n",
              "      <td>3.0</td>\n",
              "      <td>995.00</td>\n",
              "    </tr>\n",
              "    <tr>\n",
              "      <th>1</th>\n",
              "      <td>2018.0</td>\n",
              "      <td>4.9</td>\n",
              "      <td>31</td>\n",
              "      <td>4.0</td>\n",
              "      <td>2.0</td>\n",
              "      <td>313.50</td>\n",
              "    </tr>\n",
              "    <tr>\n",
              "      <th>2</th>\n",
              "      <td>2009.0</td>\n",
              "      <td>4.8</td>\n",
              "      <td>1793</td>\n",
              "      <td>5.0</td>\n",
              "      <td>3.0</td>\n",
              "      <td>324.95</td>\n",
              "    </tr>\n",
              "    <tr>\n",
              "      <th>3</th>\n",
              "      <td>1999.0</td>\n",
              "      <td>4.8</td>\n",
              "      <td>1705</td>\n",
              "      <td>5.0</td>\n",
              "      <td>3.0</td>\n",
              "      <td>692.96</td>\n",
              "    </tr>\n",
              "    <tr>\n",
              "      <th>4</th>\n",
              "      <td>1996.0</td>\n",
              "      <td>4.8</td>\n",
              "      <td>1309</td>\n",
              "      <td>5.0</td>\n",
              "      <td>3.0</td>\n",
              "      <td>778.06</td>\n",
              "    </tr>\n",
              "  </tbody>\n",
              "</table>\n",
              "</div>\n",
              "    <div class=\"colab-df-buttons\">\n",
              "\n",
              "  <div class=\"colab-df-container\">\n",
              "    <button class=\"colab-df-convert\" onclick=\"convertToInteractive('df-d3f5c0ff-cfd1-416e-b54f-b433ac6ce53e')\"\n",
              "            title=\"Convert this dataframe to an interactive table.\"\n",
              "            style=\"display:none;\">\n",
              "\n",
              "  <svg xmlns=\"http://www.w3.org/2000/svg\" height=\"24px\" viewBox=\"0 -960 960 960\">\n",
              "    <path d=\"M120-120v-720h720v720H120Zm60-500h600v-160H180v160Zm220 220h160v-160H400v160Zm0 220h160v-160H400v160ZM180-400h160v-160H180v160Zm440 0h160v-160H620v160ZM180-180h160v-160H180v160Zm440 0h160v-160H620v160Z\"/>\n",
              "  </svg>\n",
              "    </button>\n",
              "\n",
              "  <style>\n",
              "    .colab-df-container {\n",
              "      display:flex;\n",
              "      gap: 12px;\n",
              "    }\n",
              "\n",
              "    .colab-df-convert {\n",
              "      background-color: #E8F0FE;\n",
              "      border: none;\n",
              "      border-radius: 50%;\n",
              "      cursor: pointer;\n",
              "      display: none;\n",
              "      fill: #1967D2;\n",
              "      height: 32px;\n",
              "      padding: 0 0 0 0;\n",
              "      width: 32px;\n",
              "    }\n",
              "\n",
              "    .colab-df-convert:hover {\n",
              "      background-color: #E2EBFA;\n",
              "      box-shadow: 0px 1px 2px rgba(60, 64, 67, 0.3), 0px 1px 3px 1px rgba(60, 64, 67, 0.15);\n",
              "      fill: #174EA6;\n",
              "    }\n",
              "\n",
              "    .colab-df-buttons div {\n",
              "      margin-bottom: 4px;\n",
              "    }\n",
              "\n",
              "    [theme=dark] .colab-df-convert {\n",
              "      background-color: #3B4455;\n",
              "      fill: #D2E3FC;\n",
              "    }\n",
              "\n",
              "    [theme=dark] .colab-df-convert:hover {\n",
              "      background-color: #434B5C;\n",
              "      box-shadow: 0px 1px 3px 1px rgba(0, 0, 0, 0.15);\n",
              "      filter: drop-shadow(0px 1px 2px rgba(0, 0, 0, 0.3));\n",
              "      fill: #FFFFFF;\n",
              "    }\n",
              "  </style>\n",
              "\n",
              "    <script>\n",
              "      const buttonEl =\n",
              "        document.querySelector('#df-d3f5c0ff-cfd1-416e-b54f-b433ac6ce53e button.colab-df-convert');\n",
              "      buttonEl.style.display =\n",
              "        google.colab.kernel.accessAllowed ? 'block' : 'none';\n",
              "\n",
              "      async function convertToInteractive(key) {\n",
              "        const element = document.querySelector('#df-d3f5c0ff-cfd1-416e-b54f-b433ac6ce53e');\n",
              "        const dataTable =\n",
              "          await google.colab.kernel.invokeFunction('convertToInteractive',\n",
              "                                                    [key], {});\n",
              "        if (!dataTable) return;\n",
              "\n",
              "        const docLinkHtml = 'Like what you see? Visit the ' +\n",
              "          '<a target=\"_blank\" href=https://colab.research.google.com/notebooks/data_table.ipynb>data table notebook</a>'\n",
              "          + ' to learn more about interactive tables.';\n",
              "        element.innerHTML = '';\n",
              "        dataTable['output_type'] = 'display_data';\n",
              "        await google.colab.output.renderOutput(dataTable, element);\n",
              "        const docLink = document.createElement('div');\n",
              "        docLink.innerHTML = docLinkHtml;\n",
              "        element.appendChild(docLink);\n",
              "      }\n",
              "    </script>\n",
              "  </div>\n",
              "\n",
              "\n",
              "<div id=\"df-a6f9c39e-55ef-4712-88a6-9762da50c30d\">\n",
              "  <button class=\"colab-df-quickchart\" onclick=\"quickchart('df-a6f9c39e-55ef-4712-88a6-9762da50c30d')\"\n",
              "            title=\"Suggest charts\"\n",
              "            style=\"display:none;\">\n",
              "\n",
              "<svg xmlns=\"http://www.w3.org/2000/svg\" height=\"24px\"viewBox=\"0 0 24 24\"\n",
              "     width=\"24px\">\n",
              "    <g>\n",
              "        <path d=\"M19 3H5c-1.1 0-2 .9-2 2v14c0 1.1.9 2 2 2h14c1.1 0 2-.9 2-2V5c0-1.1-.9-2-2-2zM9 17H7v-7h2v7zm4 0h-2V7h2v10zm4 0h-2v-4h2v4z\"/>\n",
              "    </g>\n",
              "</svg>\n",
              "  </button>\n",
              "\n",
              "<style>\n",
              "  .colab-df-quickchart {\n",
              "      --bg-color: #E8F0FE;\n",
              "      --fill-color: #1967D2;\n",
              "      --hover-bg-color: #E2EBFA;\n",
              "      --hover-fill-color: #174EA6;\n",
              "      --disabled-fill-color: #AAA;\n",
              "      --disabled-bg-color: #DDD;\n",
              "  }\n",
              "\n",
              "  [theme=dark] .colab-df-quickchart {\n",
              "      --bg-color: #3B4455;\n",
              "      --fill-color: #D2E3FC;\n",
              "      --hover-bg-color: #434B5C;\n",
              "      --hover-fill-color: #FFFFFF;\n",
              "      --disabled-bg-color: #3B4455;\n",
              "      --disabled-fill-color: #666;\n",
              "  }\n",
              "\n",
              "  .colab-df-quickchart {\n",
              "    background-color: var(--bg-color);\n",
              "    border: none;\n",
              "    border-radius: 50%;\n",
              "    cursor: pointer;\n",
              "    display: none;\n",
              "    fill: var(--fill-color);\n",
              "    height: 32px;\n",
              "    padding: 0;\n",
              "    width: 32px;\n",
              "  }\n",
              "\n",
              "  .colab-df-quickchart:hover {\n",
              "    background-color: var(--hover-bg-color);\n",
              "    box-shadow: 0 1px 2px rgba(60, 64, 67, 0.3), 0 1px 3px 1px rgba(60, 64, 67, 0.15);\n",
              "    fill: var(--button-hover-fill-color);\n",
              "  }\n",
              "\n",
              "  .colab-df-quickchart-complete:disabled,\n",
              "  .colab-df-quickchart-complete:disabled:hover {\n",
              "    background-color: var(--disabled-bg-color);\n",
              "    fill: var(--disabled-fill-color);\n",
              "    box-shadow: none;\n",
              "  }\n",
              "\n",
              "  .colab-df-spinner {\n",
              "    border: 2px solid var(--fill-color);\n",
              "    border-color: transparent;\n",
              "    border-bottom-color: var(--fill-color);\n",
              "    animation:\n",
              "      spin 1s steps(1) infinite;\n",
              "  }\n",
              "\n",
              "  @keyframes spin {\n",
              "    0% {\n",
              "      border-color: transparent;\n",
              "      border-bottom-color: var(--fill-color);\n",
              "      border-left-color: var(--fill-color);\n",
              "    }\n",
              "    20% {\n",
              "      border-color: transparent;\n",
              "      border-left-color: var(--fill-color);\n",
              "      border-top-color: var(--fill-color);\n",
              "    }\n",
              "    30% {\n",
              "      border-color: transparent;\n",
              "      border-left-color: var(--fill-color);\n",
              "      border-top-color: var(--fill-color);\n",
              "      border-right-color: var(--fill-color);\n",
              "    }\n",
              "    40% {\n",
              "      border-color: transparent;\n",
              "      border-right-color: var(--fill-color);\n",
              "      border-top-color: var(--fill-color);\n",
              "    }\n",
              "    60% {\n",
              "      border-color: transparent;\n",
              "      border-right-color: var(--fill-color);\n",
              "    }\n",
              "    80% {\n",
              "      border-color: transparent;\n",
              "      border-right-color: var(--fill-color);\n",
              "      border-bottom-color: var(--fill-color);\n",
              "    }\n",
              "    90% {\n",
              "      border-color: transparent;\n",
              "      border-bottom-color: var(--fill-color);\n",
              "    }\n",
              "  }\n",
              "</style>\n",
              "\n",
              "  <script>\n",
              "    async function quickchart(key) {\n",
              "      const quickchartButtonEl =\n",
              "        document.querySelector('#' + key + ' button');\n",
              "      quickchartButtonEl.disabled = true;  // To prevent multiple clicks.\n",
              "      quickchartButtonEl.classList.add('colab-df-spinner');\n",
              "      try {\n",
              "        const charts = await google.colab.kernel.invokeFunction(\n",
              "            'suggestCharts', [key], {});\n",
              "      } catch (error) {\n",
              "        console.error('Error during call to suggestCharts:', error);\n",
              "      }\n",
              "      quickchartButtonEl.classList.remove('colab-df-spinner');\n",
              "      quickchartButtonEl.classList.add('colab-df-quickchart-complete');\n",
              "    }\n",
              "    (() => {\n",
              "      let quickchartButtonEl =\n",
              "        document.querySelector('#df-a6f9c39e-55ef-4712-88a6-9762da50c30d button');\n",
              "      quickchartButtonEl.style.display =\n",
              "        google.colab.kernel.accessAllowed ? 'block' : 'none';\n",
              "    })();\n",
              "  </script>\n",
              "</div>\n",
              "\n",
              "    </div>\n",
              "  </div>\n"
            ],
            "application/vnd.google.colaboratory.intrinsic+json": {
              "type": "dataframe",
              "variable_name": "wine",
              "summary": "{\n  \"name\": \"wine\",\n  \"rows\": 7500,\n  \"fields\": [\n    {\n      \"column\": \"year\",\n      \"properties\": {\n        \"dtype\": \"number\",\n        \"std\": 6.940449539306008,\n        \"min\": 1910.0,\n        \"max\": 2021.0,\n        \"samples\": [\n          1929.0,\n          2013.0,\n          1942.0\n        ],\n        \"num_unique_values\": 70,\n        \"semantic_type\": \"\",\n        \"description\": \"\"\n      }\n    },\n    {\n      \"column\": \"rating\",\n      \"properties\": {\n        \"dtype\": \"number\",\n        \"std\": 0.1180290345746442,\n        \"min\": 4.2,\n        \"max\": 4.9,\n        \"samples\": [\n          4.8,\n          4.4,\n          4.9\n        ],\n        \"num_unique_values\": 8,\n        \"semantic_type\": \"\",\n        \"description\": \"\"\n      }\n    },\n    {\n      \"column\": \"num_reviews\",\n      \"properties\": {\n        \"dtype\": \"number\",\n        \"std\": 723,\n        \"min\": 25,\n        \"max\": 32624,\n        \"samples\": [\n          115,\n          177,\n          2144\n        ],\n        \"num_unique_values\": 817,\n        \"semantic_type\": \"\",\n        \"description\": \"\"\n      }\n    },\n    {\n      \"column\": \"body\",\n      \"properties\": {\n        \"dtype\": \"number\",\n        \"std\": 0.5833522358684095,\n        \"min\": 2.0,\n        \"max\": 5.0,\n        \"samples\": [\n          4.0,\n          2.0,\n          5.0\n        ],\n        \"num_unique_values\": 4,\n        \"semantic_type\": \"\",\n        \"description\": \"\"\n      }\n    },\n    {\n      \"column\": \"acidity\",\n      \"properties\": {\n        \"dtype\": \"number\",\n        \"std\": 0.24820201012421672,\n        \"min\": 1.0,\n        \"max\": 3.0,\n        \"samples\": [\n          3.0,\n          2.0,\n          1.0\n        ],\n        \"num_unique_values\": 3,\n        \"semantic_type\": \"\",\n        \"description\": \"\"\n      }\n    },\n    {\n      \"column\": \"price\",\n      \"properties\": {\n        \"dtype\": \"number\",\n        \"std\": 150.35667645268293,\n        \"min\": 4.99,\n        \"max\": 3119.08,\n        \"samples\": [\n          168.0,\n          190.0,\n          28.73153673\n        ],\n        \"num_unique_values\": 1292,\n        \"semantic_type\": \"\",\n        \"description\": \"\"\n      }\n    }\n  ]\n}"
            }
          },
          "metadata": {},
          "execution_count": 2
        }
      ]
    },
    {
      "cell_type": "code",
      "source": [
        "#Display the datatype, number of non-null values along with memory usage\n",
        "wine.info()"
      ],
      "metadata": {
        "colab": {
          "base_uri": "https://localhost:8080/"
        },
        "id": "Bm3vmdRcqetW",
        "outputId": "6575d260-d0c0-46cd-cfd8-9c09449172b9"
      },
      "execution_count": 3,
      "outputs": [
        {
          "output_type": "stream",
          "name": "stdout",
          "text": [
            "<class 'pandas.core.frame.DataFrame'>\n",
            "RangeIndex: 7500 entries, 0 to 7499\n",
            "Data columns (total 6 columns):\n",
            " #   Column       Non-Null Count  Dtype  \n",
            "---  ------       --------------  -----  \n",
            " 0   year         7210 non-null   float64\n",
            " 1   rating       7500 non-null   float64\n",
            " 2   num_reviews  7500 non-null   int64  \n",
            " 3   body         6331 non-null   float64\n",
            " 4   acidity      6331 non-null   float64\n",
            " 5   price        7500 non-null   float64\n",
            "dtypes: float64(5), int64(1)\n",
            "memory usage: 351.7 KB\n"
          ]
        }
      ]
    },
    {
      "cell_type": "code",
      "source": [
        "#Understanding the statistics of the dataset\n",
        "wine.describe()"
      ],
      "metadata": {
        "colab": {
          "base_uri": "https://localhost:8080/",
          "height": 300
        },
        "id": "1MPG1PqBqhu_",
        "outputId": "ec885677-9376-4d22-d645-3c161629ef35"
      },
      "execution_count": 4,
      "outputs": [
        {
          "output_type": "execute_result",
          "data": {
            "text/plain": [
              "              year       rating   num_reviews         body      acidity  \\\n",
              "count  7210.000000  7500.000000   7500.000000  6331.000000  6331.000000   \n",
              "mean   2013.495839     4.254933    451.109067     4.158427     2.946612   \n",
              "std       6.940450     0.118029    723.001856     0.583352     0.248202   \n",
              "min    1910.000000     4.200000     25.000000     2.000000     1.000000   \n",
              "25%    2011.000000     4.200000    389.000000     4.000000     3.000000   \n",
              "50%    2015.000000     4.200000    404.000000     4.000000     3.000000   \n",
              "75%    2017.000000     4.200000    415.000000     5.000000     3.000000   \n",
              "max    2021.000000     4.900000  32624.000000     5.000000     3.000000   \n",
              "\n",
              "             price  \n",
              "count  7500.000000  \n",
              "mean     60.095822  \n",
              "std     150.356676  \n",
              "min       4.990000  \n",
              "25%      18.900000  \n",
              "50%      28.530000  \n",
              "75%      51.350000  \n",
              "max    3119.080000  "
            ],
            "text/html": [
              "\n",
              "  <div id=\"df-ddd3ce81-8918-412d-a3fe-1cfe0c33a1dd\" class=\"colab-df-container\">\n",
              "    <div>\n",
              "<style scoped>\n",
              "    .dataframe tbody tr th:only-of-type {\n",
              "        vertical-align: middle;\n",
              "    }\n",
              "\n",
              "    .dataframe tbody tr th {\n",
              "        vertical-align: top;\n",
              "    }\n",
              "\n",
              "    .dataframe thead th {\n",
              "        text-align: right;\n",
              "    }\n",
              "</style>\n",
              "<table border=\"1\" class=\"dataframe\">\n",
              "  <thead>\n",
              "    <tr style=\"text-align: right;\">\n",
              "      <th></th>\n",
              "      <th>year</th>\n",
              "      <th>rating</th>\n",
              "      <th>num_reviews</th>\n",
              "      <th>body</th>\n",
              "      <th>acidity</th>\n",
              "      <th>price</th>\n",
              "    </tr>\n",
              "  </thead>\n",
              "  <tbody>\n",
              "    <tr>\n",
              "      <th>count</th>\n",
              "      <td>7210.000000</td>\n",
              "      <td>7500.000000</td>\n",
              "      <td>7500.000000</td>\n",
              "      <td>6331.000000</td>\n",
              "      <td>6331.000000</td>\n",
              "      <td>7500.000000</td>\n",
              "    </tr>\n",
              "    <tr>\n",
              "      <th>mean</th>\n",
              "      <td>2013.495839</td>\n",
              "      <td>4.254933</td>\n",
              "      <td>451.109067</td>\n",
              "      <td>4.158427</td>\n",
              "      <td>2.946612</td>\n",
              "      <td>60.095822</td>\n",
              "    </tr>\n",
              "    <tr>\n",
              "      <th>std</th>\n",
              "      <td>6.940450</td>\n",
              "      <td>0.118029</td>\n",
              "      <td>723.001856</td>\n",
              "      <td>0.583352</td>\n",
              "      <td>0.248202</td>\n",
              "      <td>150.356676</td>\n",
              "    </tr>\n",
              "    <tr>\n",
              "      <th>min</th>\n",
              "      <td>1910.000000</td>\n",
              "      <td>4.200000</td>\n",
              "      <td>25.000000</td>\n",
              "      <td>2.000000</td>\n",
              "      <td>1.000000</td>\n",
              "      <td>4.990000</td>\n",
              "    </tr>\n",
              "    <tr>\n",
              "      <th>25%</th>\n",
              "      <td>2011.000000</td>\n",
              "      <td>4.200000</td>\n",
              "      <td>389.000000</td>\n",
              "      <td>4.000000</td>\n",
              "      <td>3.000000</td>\n",
              "      <td>18.900000</td>\n",
              "    </tr>\n",
              "    <tr>\n",
              "      <th>50%</th>\n",
              "      <td>2015.000000</td>\n",
              "      <td>4.200000</td>\n",
              "      <td>404.000000</td>\n",
              "      <td>4.000000</td>\n",
              "      <td>3.000000</td>\n",
              "      <td>28.530000</td>\n",
              "    </tr>\n",
              "    <tr>\n",
              "      <th>75%</th>\n",
              "      <td>2017.000000</td>\n",
              "      <td>4.200000</td>\n",
              "      <td>415.000000</td>\n",
              "      <td>5.000000</td>\n",
              "      <td>3.000000</td>\n",
              "      <td>51.350000</td>\n",
              "    </tr>\n",
              "    <tr>\n",
              "      <th>max</th>\n",
              "      <td>2021.000000</td>\n",
              "      <td>4.900000</td>\n",
              "      <td>32624.000000</td>\n",
              "      <td>5.000000</td>\n",
              "      <td>3.000000</td>\n",
              "      <td>3119.080000</td>\n",
              "    </tr>\n",
              "  </tbody>\n",
              "</table>\n",
              "</div>\n",
              "    <div class=\"colab-df-buttons\">\n",
              "\n",
              "  <div class=\"colab-df-container\">\n",
              "    <button class=\"colab-df-convert\" onclick=\"convertToInteractive('df-ddd3ce81-8918-412d-a3fe-1cfe0c33a1dd')\"\n",
              "            title=\"Convert this dataframe to an interactive table.\"\n",
              "            style=\"display:none;\">\n",
              "\n",
              "  <svg xmlns=\"http://www.w3.org/2000/svg\" height=\"24px\" viewBox=\"0 -960 960 960\">\n",
              "    <path d=\"M120-120v-720h720v720H120Zm60-500h600v-160H180v160Zm220 220h160v-160H400v160Zm0 220h160v-160H400v160ZM180-400h160v-160H180v160Zm440 0h160v-160H620v160ZM180-180h160v-160H180v160Zm440 0h160v-160H620v160Z\"/>\n",
              "  </svg>\n",
              "    </button>\n",
              "\n",
              "  <style>\n",
              "    .colab-df-container {\n",
              "      display:flex;\n",
              "      gap: 12px;\n",
              "    }\n",
              "\n",
              "    .colab-df-convert {\n",
              "      background-color: #E8F0FE;\n",
              "      border: none;\n",
              "      border-radius: 50%;\n",
              "      cursor: pointer;\n",
              "      display: none;\n",
              "      fill: #1967D2;\n",
              "      height: 32px;\n",
              "      padding: 0 0 0 0;\n",
              "      width: 32px;\n",
              "    }\n",
              "\n",
              "    .colab-df-convert:hover {\n",
              "      background-color: #E2EBFA;\n",
              "      box-shadow: 0px 1px 2px rgba(60, 64, 67, 0.3), 0px 1px 3px 1px rgba(60, 64, 67, 0.15);\n",
              "      fill: #174EA6;\n",
              "    }\n",
              "\n",
              "    .colab-df-buttons div {\n",
              "      margin-bottom: 4px;\n",
              "    }\n",
              "\n",
              "    [theme=dark] .colab-df-convert {\n",
              "      background-color: #3B4455;\n",
              "      fill: #D2E3FC;\n",
              "    }\n",
              "\n",
              "    [theme=dark] .colab-df-convert:hover {\n",
              "      background-color: #434B5C;\n",
              "      box-shadow: 0px 1px 3px 1px rgba(0, 0, 0, 0.15);\n",
              "      filter: drop-shadow(0px 1px 2px rgba(0, 0, 0, 0.3));\n",
              "      fill: #FFFFFF;\n",
              "    }\n",
              "  </style>\n",
              "\n",
              "    <script>\n",
              "      const buttonEl =\n",
              "        document.querySelector('#df-ddd3ce81-8918-412d-a3fe-1cfe0c33a1dd button.colab-df-convert');\n",
              "      buttonEl.style.display =\n",
              "        google.colab.kernel.accessAllowed ? 'block' : 'none';\n",
              "\n",
              "      async function convertToInteractive(key) {\n",
              "        const element = document.querySelector('#df-ddd3ce81-8918-412d-a3fe-1cfe0c33a1dd');\n",
              "        const dataTable =\n",
              "          await google.colab.kernel.invokeFunction('convertToInteractive',\n",
              "                                                    [key], {});\n",
              "        if (!dataTable) return;\n",
              "\n",
              "        const docLinkHtml = 'Like what you see? Visit the ' +\n",
              "          '<a target=\"_blank\" href=https://colab.research.google.com/notebooks/data_table.ipynb>data table notebook</a>'\n",
              "          + ' to learn more about interactive tables.';\n",
              "        element.innerHTML = '';\n",
              "        dataTable['output_type'] = 'display_data';\n",
              "        await google.colab.output.renderOutput(dataTable, element);\n",
              "        const docLink = document.createElement('div');\n",
              "        docLink.innerHTML = docLinkHtml;\n",
              "        element.appendChild(docLink);\n",
              "      }\n",
              "    </script>\n",
              "  </div>\n",
              "\n",
              "\n",
              "<div id=\"df-e945532f-9785-45bd-bebb-0608aeb3db9c\">\n",
              "  <button class=\"colab-df-quickchart\" onclick=\"quickchart('df-e945532f-9785-45bd-bebb-0608aeb3db9c')\"\n",
              "            title=\"Suggest charts\"\n",
              "            style=\"display:none;\">\n",
              "\n",
              "<svg xmlns=\"http://www.w3.org/2000/svg\" height=\"24px\"viewBox=\"0 0 24 24\"\n",
              "     width=\"24px\">\n",
              "    <g>\n",
              "        <path d=\"M19 3H5c-1.1 0-2 .9-2 2v14c0 1.1.9 2 2 2h14c1.1 0 2-.9 2-2V5c0-1.1-.9-2-2-2zM9 17H7v-7h2v7zm4 0h-2V7h2v10zm4 0h-2v-4h2v4z\"/>\n",
              "    </g>\n",
              "</svg>\n",
              "  </button>\n",
              "\n",
              "<style>\n",
              "  .colab-df-quickchart {\n",
              "      --bg-color: #E8F0FE;\n",
              "      --fill-color: #1967D2;\n",
              "      --hover-bg-color: #E2EBFA;\n",
              "      --hover-fill-color: #174EA6;\n",
              "      --disabled-fill-color: #AAA;\n",
              "      --disabled-bg-color: #DDD;\n",
              "  }\n",
              "\n",
              "  [theme=dark] .colab-df-quickchart {\n",
              "      --bg-color: #3B4455;\n",
              "      --fill-color: #D2E3FC;\n",
              "      --hover-bg-color: #434B5C;\n",
              "      --hover-fill-color: #FFFFFF;\n",
              "      --disabled-bg-color: #3B4455;\n",
              "      --disabled-fill-color: #666;\n",
              "  }\n",
              "\n",
              "  .colab-df-quickchart {\n",
              "    background-color: var(--bg-color);\n",
              "    border: none;\n",
              "    border-radius: 50%;\n",
              "    cursor: pointer;\n",
              "    display: none;\n",
              "    fill: var(--fill-color);\n",
              "    height: 32px;\n",
              "    padding: 0;\n",
              "    width: 32px;\n",
              "  }\n",
              "\n",
              "  .colab-df-quickchart:hover {\n",
              "    background-color: var(--hover-bg-color);\n",
              "    box-shadow: 0 1px 2px rgba(60, 64, 67, 0.3), 0 1px 3px 1px rgba(60, 64, 67, 0.15);\n",
              "    fill: var(--button-hover-fill-color);\n",
              "  }\n",
              "\n",
              "  .colab-df-quickchart-complete:disabled,\n",
              "  .colab-df-quickchart-complete:disabled:hover {\n",
              "    background-color: var(--disabled-bg-color);\n",
              "    fill: var(--disabled-fill-color);\n",
              "    box-shadow: none;\n",
              "  }\n",
              "\n",
              "  .colab-df-spinner {\n",
              "    border: 2px solid var(--fill-color);\n",
              "    border-color: transparent;\n",
              "    border-bottom-color: var(--fill-color);\n",
              "    animation:\n",
              "      spin 1s steps(1) infinite;\n",
              "  }\n",
              "\n",
              "  @keyframes spin {\n",
              "    0% {\n",
              "      border-color: transparent;\n",
              "      border-bottom-color: var(--fill-color);\n",
              "      border-left-color: var(--fill-color);\n",
              "    }\n",
              "    20% {\n",
              "      border-color: transparent;\n",
              "      border-left-color: var(--fill-color);\n",
              "      border-top-color: var(--fill-color);\n",
              "    }\n",
              "    30% {\n",
              "      border-color: transparent;\n",
              "      border-left-color: var(--fill-color);\n",
              "      border-top-color: var(--fill-color);\n",
              "      border-right-color: var(--fill-color);\n",
              "    }\n",
              "    40% {\n",
              "      border-color: transparent;\n",
              "      border-right-color: var(--fill-color);\n",
              "      border-top-color: var(--fill-color);\n",
              "    }\n",
              "    60% {\n",
              "      border-color: transparent;\n",
              "      border-right-color: var(--fill-color);\n",
              "    }\n",
              "    80% {\n",
              "      border-color: transparent;\n",
              "      border-right-color: var(--fill-color);\n",
              "      border-bottom-color: var(--fill-color);\n",
              "    }\n",
              "    90% {\n",
              "      border-color: transparent;\n",
              "      border-bottom-color: var(--fill-color);\n",
              "    }\n",
              "  }\n",
              "</style>\n",
              "\n",
              "  <script>\n",
              "    async function quickchart(key) {\n",
              "      const quickchartButtonEl =\n",
              "        document.querySelector('#' + key + ' button');\n",
              "      quickchartButtonEl.disabled = true;  // To prevent multiple clicks.\n",
              "      quickchartButtonEl.classList.add('colab-df-spinner');\n",
              "      try {\n",
              "        const charts = await google.colab.kernel.invokeFunction(\n",
              "            'suggestCharts', [key], {});\n",
              "      } catch (error) {\n",
              "        console.error('Error during call to suggestCharts:', error);\n",
              "      }\n",
              "      quickchartButtonEl.classList.remove('colab-df-spinner');\n",
              "      quickchartButtonEl.classList.add('colab-df-quickchart-complete');\n",
              "    }\n",
              "    (() => {\n",
              "      let quickchartButtonEl =\n",
              "        document.querySelector('#df-e945532f-9785-45bd-bebb-0608aeb3db9c button');\n",
              "      quickchartButtonEl.style.display =\n",
              "        google.colab.kernel.accessAllowed ? 'block' : 'none';\n",
              "    })();\n",
              "  </script>\n",
              "</div>\n",
              "\n",
              "    </div>\n",
              "  </div>\n"
            ],
            "application/vnd.google.colaboratory.intrinsic+json": {
              "type": "dataframe",
              "summary": "{\n  \"name\": \"wine\",\n  \"rows\": 8,\n  \"fields\": [\n    {\n      \"column\": \"year\",\n      \"properties\": {\n        \"dtype\": \"number\",\n        \"std\": 2064.7446406742924,\n        \"min\": 6.940449539306008,\n        \"max\": 7210.0,\n        \"samples\": [\n          2013.495839112344,\n          2015.0,\n          7210.0\n        ],\n        \"num_unique_values\": 8,\n        \"semantic_type\": \"\",\n        \"description\": \"\"\n      }\n    },\n    {\n      \"column\": \"rating\",\n      \"properties\": {\n        \"dtype\": \"number\",\n        \"std\": 2650.3339657222677,\n        \"min\": 0.1180290345746442,\n        \"max\": 7500.0,\n        \"samples\": [\n          4.254933333333334,\n          4.9,\n          0.1180290345746442\n        ],\n        \"num_unique_values\": 5,\n        \"semantic_type\": \"\",\n        \"description\": \"\"\n      }\n    },\n    {\n      \"column\": \"num_reviews\",\n      \"properties\": {\n        \"dtype\": \"number\",\n        \"std\": 11311.669508789137,\n        \"min\": 25.0,\n        \"max\": 32624.0,\n        \"samples\": [\n          451.10906666666665,\n          404.0,\n          7500.0\n        ],\n        \"num_unique_values\": 8,\n        \"semantic_type\": \"\",\n        \"description\": \"\"\n      }\n    },\n    {\n      \"column\": \"body\",\n      \"properties\": {\n        \"dtype\": \"number\",\n        \"std\": 2237.0973839716053,\n        \"min\": 0.5833522358684095,\n        \"max\": 6331.0,\n        \"samples\": [\n          6331.0,\n          4.158426788816932,\n          5.0\n        ],\n        \"num_unique_values\": 6,\n        \"semantic_type\": \"\",\n        \"description\": \"\"\n      }\n    },\n    {\n      \"column\": \"acidity\",\n      \"properties\": {\n        \"dtype\": \"number\",\n        \"std\": 2237.528818438346,\n        \"min\": 0.24820201012421672,\n        \"max\": 6331.0,\n        \"samples\": [\n          2.9466119096509242,\n          3.0,\n          0.24820201012421672\n        ],\n        \"num_unique_values\": 5,\n        \"semantic_type\": \"\",\n        \"description\": \"\"\n      }\n    },\n    {\n      \"column\": \"price\",\n      \"properties\": {\n        \"dtype\": \"number\",\n        \"std\": 2700.967383255682,\n        \"min\": 4.99,\n        \"max\": 7500.0,\n        \"samples\": [\n          60.095821871603995,\n          28.53,\n          7500.0\n        ],\n        \"num_unique_values\": 8,\n        \"semantic_type\": \"\",\n        \"description\": \"\"\n      }\n    }\n  ]\n}"
            }
          },
          "metadata": {},
          "execution_count": 4
        }
      ]
    },
    {
      "cell_type": "code",
      "source": [
        "#Histogram\n",
        "wine.hist(bins=20, figsize=(15, 10))\n",
        "plt.show()"
      ],
      "metadata": {
        "colab": {
          "base_uri": "https://localhost:8080/",
          "height": 853
        },
        "id": "W_WquSTDqkxr",
        "outputId": "71cc1c82-6409-4eb5-f74b-6505c339c89a"
      },
      "execution_count": 5,
      "outputs": [
        {
          "output_type": "display_data",
          "data": {
            "text/plain": [
              "<Figure size 1500x1000 with 6 Axes>"
            ],
            "image/png": "[encoded data removed]"
          },
          "metadata": {}
        }
      ]
    },
    {
      "cell_type": "code",
      "source": [
        "# Explore the relationships between features and the target variable\n",
        "plt.figure(figsize=(20, 5))\n",
        "\n",
        "# Scatter plot for Rating vs Price\n",
        "plt.subplot(1, 4, 1)\n",
        "plt.scatter(wine['rating'], wine['price'],alpha=0.5)\n",
        "plt.xlabel('Rating')\n",
        "plt.ylabel('Price')\n",
        "plt.title('Rating vs Price')\n",
        "\n",
        "# Scatter plot for Body vs Price\n",
        "plt.subplot(1, 4, 2)\n",
        "plt.scatter(wine['body'], wine['price'],alpha=0.5)\n",
        "plt.xlabel('Body')\n",
        "plt.ylabel('Price')\n",
        "plt.title('Body vs Price')\n",
        "\n",
        "# Scatter plot for Number of Reviews vs Price\n",
        "plt.subplot(1, 4, 3)\n",
        "plt.scatter(wine['num_reviews'], wine['price'],alpha=0.5)\n",
        "plt.xlabel('Number of Reviews')\n",
        "plt.ylabel('Price')\n",
        "plt.title('Number of Reviews vs Price')\n",
        "\n",
        "# Scatter plot for Acidity vs Price\n",
        "plt.subplot(1, 4, 4)\n",
        "plt.scatter(wine['acidity'], wine['price'],alpha=0.5)\n",
        "plt.xlabel('Acidity')\n",
        "plt.ylabel('Price')\n",
        "plt.title('Acidity vs Price')\n",
        "\n",
        "# Adjust layout\n",
        "plt.tight_layout()\n",
        "\n",
        "# Display the plots\n",
        "plt.show()"
      ],
      "metadata": {
        "colab": {
          "base_uri": "https://localhost:8080/",
          "height": 507
        },
        "id": "LYsEcqNWCqt8",
        "outputId": "3989aef7-cb06-4616-f9ed-4b3598532694"
      },
      "execution_count": 6,
      "outputs": [
        {
          "output_type": "display_data",
          "data": {
            "text/plain": [
              "<Figure size 2000x500 with 4 Axes>"
            ],
            "image/png": "[encoded data removed]"
          },
          "metadata": {}
        }
      ]
    },
    {
      "cell_type": "code",
      "source": [
        "# Preprocessing\n",
        "# Check for missing values\n",
        "print(wine.isnull().sum())"
      ],
      "metadata": {
        "colab": {
          "base_uri": "https://localhost:8080/"
        },
        "id": "qAK0_AX2DJT5",
        "outputId": "006568c7-f39a-44f2-926e-4ff3c071a8ee"
      },
      "execution_count": 7,
      "outputs": [
        {
          "output_type": "stream",
          "name": "stdout",
          "text": [
            "year            290\n",
            "rating            0\n",
            "num_reviews       0\n",
            "body           1169\n",
            "acidity        1169\n",
            "price             0\n",
            "dtype: int64\n"
          ]
        }
      ]
    },
    {
      "cell_type": "code",
      "source": [
        "import seaborn as sns\n",
        "\n",
        "# Calculate the correlation matrix\n",
        "corr_matrix = wine.corr()\n",
        "# Calculate the correlation between \"price\" and other features\n",
        "price_corr = corr_matrix[\"price\"].sort_values(ascending=False)\n",
        "\n",
        "# Print the sorted correlation coefficients\n",
        "print(price_corr)\n",
        "\n",
        "# Plot the correlation matrix as a heatmap\n",
        "plt.figure(figsize=(10, 8))\n",
        "sns.heatmap(corr_matrix, annot=True, cmap='coolwarm', fmt=\".2f\", linewidths=0.5)\n",
        "plt.title(\"Correlation Matrix\")\n",
        "plt.show()"
      ],
      "metadata": {
        "id": "siBWJOogGvO-",
        "colab": {
          "base_uri": "https://localhost:8080/",
          "height": 820
        },
        "outputId": "1f5bc322-9594-47fe-b624-fefb980a208c"
      },
      "execution_count": 8,
      "outputs": [
        {
          "output_type": "stream",
          "name": "stdout",
          "text": [
            "price          1.000000\n",
            "rating         0.544809\n",
            "body           0.153624\n",
            "num_reviews   -0.030083\n",
            "acidity       -0.032870\n",
            "year          -0.388384\n",
            "Name: price, dtype: float64\n"
          ]
        },
        {
          "output_type": "display_data",
          "data": {
            "text/plain": [
              "<Figure size 1000x800 with 2 Axes>"
            ],
            "image/png": "[encoded data removed]"
          },
          "metadata": {}
        }
      ]
    },
    {
      "cell_type": "markdown",
      "source": [
        "**There is moderate correlation between 'price' and 'rating'.**"
      ],
      "metadata": {
        "id": "oHSNQZvDPWnp"
      }
    },
    {
      "cell_type": "code",
      "source": [
        "#Creating ratios between features that have significant correlations\n",
        "\n",
        "wine[\"rating_per_body\"] = wine[\"rating\"] / wine[\"body\"]\n",
        "wine[\"rating_per_year\"] = wine[\"rating\"] / wine[\"year\"]\n",
        "wine[\"rating_per_reviews\"] = wine[\"rating\"] / wine[\"num_reviews\"]"
      ],
      "metadata": {
        "id": "0OB-ryX7OFXQ"
      },
      "execution_count": 9,
      "outputs": []
    },
    {
      "cell_type": "code",
      "source": [
        "#Calculate the correlation matrix including the new columns\n",
        "corr_matrix_with_ratios = wine.corr()\n",
        "\n",
        "#Extract correlation values for \"price\" with the new features\n",
        "correlation_with_ratios = corr_matrix_with_ratios[\"price\"][[\"rating_per_body\", \"rating_per_year\", \"rating_per_reviews\"]]\n",
        "print(correlation_with_ratios)"
      ],
      "metadata": {
        "colab": {
          "base_uri": "https://localhost:8080/"
        },
        "id": "NOphitUMRNRu",
        "outputId": "c09a12e6-3695-4d85-8e26-f9546c320ad2"
      },
      "execution_count": 10,
      "outputs": [
        {
          "output_type": "stream",
          "name": "stdout",
          "text": [
            "rating_per_body      -0.040982\n",
            "rating_per_year       0.569338\n",
            "rating_per_reviews    0.217459\n",
            "Name: price, dtype: float64\n"
          ]
        }
      ]
    },
    {
      "cell_type": "code",
      "source": [
        "#Comparing price with the new features\n",
        "\n",
        "#Selecting relevant columns for correlation matrix\n",
        "selected_columns = [\"price\", \"rating_per_body\", \"rating_per_year\", \"rating_per_reviews\"]\n",
        "\n",
        "#Calculating correlation matrix\n",
        "corr_matrix_new_features = wine[selected_columns].corr()\n",
        "\n",
        "#Print the correlation matrix\n",
        "print(corr_matrix_new_features)\n"
      ],
      "metadata": {
        "colab": {
          "base_uri": "https://localhost:8080/"
        },
        "id": "UbaP2Y-WxsNC",
        "outputId": "5811c9ea-2877-422b-d9f3-ad458041be08"
      },
      "execution_count": 11,
      "outputs": [
        {
          "output_type": "stream",
          "name": "stdout",
          "text": [
            "                       price  rating_per_body  rating_per_year  \\\n",
            "price               1.000000        -0.040982         0.569338   \n",
            "rating_per_body    -0.040982         1.000000         0.049214   \n",
            "rating_per_year     0.569338         0.049214         1.000000   \n",
            "rating_per_reviews  0.217459         0.133289         0.516622   \n",
            "\n",
            "                    rating_per_reviews  \n",
            "price                         0.217459  \n",
            "rating_per_body               0.133289  \n",
            "rating_per_year               0.516622  \n",
            "rating_per_reviews            1.000000  \n"
          ]
        }
      ]
    },
    {
      "cell_type": "code",
      "source": [
        "#Drop the \"rating_per_body\" feature\n",
        "wine.drop(\"rating_per_body\", axis=1, inplace=True)"
      ],
      "metadata": {
        "id": "JbwGQZfA15Ke"
      },
      "execution_count": 12,
      "outputs": []
    },
    {
      "cell_type": "markdown",
      "source": [
        "**Splitting the Wine Dataset**"
      ],
      "metadata": {
        "id": "vE8I8EEe2PaY"
      }
    },
    {
      "cell_type": "code",
      "source": [
        "#Separate features (X) and target variable (y)\n",
        "X = wine.drop(columns=['price'])  # Features\n",
        "y = wine['price']  # Target variable"
      ],
      "metadata": {
        "id": "VViVw27GHMnR"
      },
      "execution_count": 13,
      "outputs": []
    },
    {
      "cell_type": "code",
      "source": [
        "from sklearn.model_selection import train_test_split\n",
        "\n",
        "#Split the dataset into training and test sets\n",
        "X_train, X_test, y_train, y_test = train_test_split(X, y, test_size=0.2, random_state=42)"
      ],
      "metadata": {
        "id": "xhpWctSBH-2X"
      },
      "execution_count": 14,
      "outputs": []
    },
    {
      "cell_type": "code",
      "source": [
        "#Display the shapes of the resulting sets\n",
        "print(\"Training set shape:\", X_train.shape)\n",
        "print(\"Testing set shape:\", X_test.shape)"
      ],
      "metadata": {
        "colab": {
          "base_uri": "https://localhost:8080/"
        },
        "id": "3UkqL2M5H3Ei",
        "outputId": "e6220a47-e6e5-41b4-9465-f5e844411a3a"
      },
      "execution_count": 15,
      "outputs": [
        {
          "output_type": "stream",
          "name": "stdout",
          "text": [
            "Training set shape: (6000, 7)\n",
            "Testing set shape: (1500, 7)\n"
          ]
        }
      ]
    },
    {
      "cell_type": "code",
      "source": [
        "#List of numerical features that will be standardized\n",
        "num_std_attributes = ['year', 'rating', 'num_reviews', 'body', 'acidity','rating_per_year', 'rating_per_reviews']"
      ],
      "metadata": {
        "id": "XY3qC3cGIJQT"
      },
      "execution_count": 16,
      "outputs": []
    },
    {
      "cell_type": "code",
      "source": [
        "from sklearn.pipeline import Pipeline\n",
        "from sklearn.impute import SimpleImputer\n",
        "from sklearn.preprocessing import StandardScaler\n",
        "\n",
        "#Define preprocessing steps for numerical features\n",
        "numeric_std_pipeline = Pipeline([('imputer', SimpleImputer(strategy='median')),\n",
        "                                  ('stdscaler', StandardScaler())])"
      ],
      "metadata": {
        "id": "tU41DTXRXaKY"
      },
      "execution_count": 17,
      "outputs": []
    },
    {
      "cell_type": "code",
      "source": [
        "from sklearn.compose import ColumnTransformer\n",
        "\n",
        "#Combine preprocessing steps for numerical features using ColumnTransformer\n",
        "full_transformer = ColumnTransformer([('numeric_stdpreprocessing', numeric_std_pipeline, num_std_attributes)])"
      ],
      "metadata": {
        "id": "l0M9J4sMz_g8"
      },
      "execution_count": 18,
      "outputs": []
    },
    {
      "cell_type": "code",
      "source": [
        "from sklearn.linear_model import LinearRegression\n",
        "\n",
        "p1_full_pipeline = Pipeline([('all_column_transformation', full_transformer),\n",
        "                        ('linear_regression', LinearRegression())\n",
        "                      ])"
      ],
      "metadata": {
        "id": "d9qM78dPJrf0"
      },
      "execution_count": 19,
      "outputs": []
    },
    {
      "cell_type": "code",
      "source": [
        "#For regression\n",
        "from sklearn.metrics import mean_absolute_error\n",
        "from sklearn.metrics import mean_squared_error\n",
        "from sklearn.metrics import r2_score\n",
        "import math\n",
        "\n",
        "def fit_and_print(p, train_set, train_labels, test_set, test_labels):\n",
        "  p.fit(train_set, train_labels)\n",
        "  train_preds = p.predict(train_set)\n",
        "  test_preds = p.predict(test_set)\n",
        "  print(\"Training Error MAE: \" + str(mean_absolute_error(train_preds, train_labels)))\n",
        "  print(\"Test Error MAE: \" + str(mean_absolute_error(test_preds, test_labels)))\n",
        "  print(\"R2 score: \" + str(r2_score(test_preds, test_labels)))"
      ],
      "metadata": {
        "id": "1HrSP0uRKHbh"
      },
      "execution_count": 20,
      "outputs": []
    },
    {
      "cell_type": "code",
      "source": [
        "# Fit the model\n",
        "fit_and_print(p1_full_pipeline, X_train, y_train, X_test, y_test)"
      ],
      "metadata": {
        "colab": {
          "base_uri": "https://localhost:8080/"
        },
        "id": "l3_mpRip2MYK",
        "outputId": "e64879db-49fe-4c68-b400-3411cde0be4d"
      },
      "execution_count": 21,
      "outputs": [
        {
          "output_type": "stream",
          "name": "stdout",
          "text": [
            "Training Error MAE: 40.55878143626853\n",
            "Test Error MAE: 45.67343793095568\n",
            "R2 score: -1.0078658681345036\n"
          ]
        }
      ]
    },
    {
      "cell_type": "markdown",
      "source": [
        "**Polynomial Regression**"
      ],
      "metadata": {
        "id": "HNILwrCGRAIN"
      }
    },
    {
      "cell_type": "code",
      "source": [
        "from sklearn.preprocessing import PolynomialFeatures\n",
        "\n",
        "#Polynomial Features\n",
        "poly_pipeline = Pipeline([('imputer', SimpleImputer(strategy='median')),\n",
        "                          ('poly_features', PolynomialFeatures(degree=2, include_bias=False))\n",
        "                          ])"
      ],
      "metadata": {
        "id": "Ukn80SBSRJsF"
      },
      "execution_count": 22,
      "outputs": []
    },
    {
      "cell_type": "code",
      "source": [
        "from sklearn.compose import ColumnTransformer\n",
        "\n",
        "full_transformer_poly = ColumnTransformer([ ('poly_features', poly_pipeline, num_std_attributes),\n",
        "                                            ('numeric_stdpreprocessing', numeric_std_pipeline, num_std_attributes)])"
      ],
      "metadata": {
        "id": "_Z0ELETvRNWJ"
      },
      "execution_count": 23,
      "outputs": []
    },
    {
      "cell_type": "code",
      "source": [
        "from sklearn.linear_model import LinearRegression\n",
        "\n",
        "p2_full_pipeline = Pipeline([('all_column_transformation_poly', full_transformer_poly),\n",
        "                        ('linear_regression', LinearRegression())\n",
        "                      ])\n",
        "\n",
        "p2_full_pipeline"
      ],
      "metadata": {
        "colab": {
          "base_uri": "https://localhost:8080/",
          "height": 223
        },
        "id": "iSkHG2KnRUNS",
        "outputId": "9c87f5b6-bafa-4179-cc77-0a1d0d51d865"
      },
      "execution_count": 24,
      "outputs": [
        {
          "output_type": "execute_result",
          "data": {
            "text/plain": [
              "Pipeline(steps=[('all_column_transformation_poly',\n",
              "                 ColumnTransformer(transformers=[('poly_features',\n",
              "                                                  Pipeline(steps=[('imputer',\n",
              "                                                                   SimpleImputer(strategy='median')),\n",
              "                                                                  ('poly_features',\n",
              "                                                                   PolynomialFeatures(include_bias=False))]),\n",
              "                                                  ['year', 'rating',\n",
              "                                                   'num_reviews', 'body',\n",
              "                                                   'acidity', 'rating_per_year',\n",
              "                                                   'rating_per_reviews']),\n",
              "                                                 ('numeric_stdpreprocessing',\n",
              "                                                  Pipeline(steps=[('imputer',\n",
              "                                                                   SimpleImputer(strategy='median')),\n",
              "                                                                  ('stdscaler',\n",
              "                                                                   StandardScaler())]),\n",
              "                                                  ['year', 'rating',\n",
              "                                                   'num_reviews', 'body',\n",
              "                                                   'acidity', 'rating_per_year',\n",
              "                                                   'rating_per_reviews'])])),\n",
              "                ('linear_regression', LinearRegression())])"
            ],
            "text/html": [
              "<style>#sk-container-id-1 {color: black;background-color: white;}#sk-container-id-1 pre{padding: 0;}#sk-container-id-1 div.sk-toggleable {background-color: white;}#sk-container-id-1 label.sk-toggleable__label {cursor: pointer;display: block;width: 100%;margin-bottom: 0;padding: 0.3em;box-sizing: border-box;text-align: center;}#sk-container-id-1 label.sk-toggleable__label-arrow:before {content: \"▸\";float: left;margin-right: 0.25em;color: #696969;}#sk-container-id-1 label.sk-toggleable__label-arrow:hover:before {color: black;}#sk-container-id-1 div.sk-estimator:hover label.sk-toggleable__label-arrow:before {color: black;}#sk-container-id-1 div.sk-toggleable__content {max-height: 0;max-width: 0;overflow: hidden;text-align: left;background-color: #f0f8ff;}#sk-container-id-1 div.sk-toggleable__content pre {margin: 0.2em;color: black;border-radius: 0.25em;background-color: #f0f8ff;}#sk-container-id-1 input.sk-toggleable__control:checked~div.sk-toggleable__content {max-height: 200px;max-width: 100%;overflow: auto;}#sk-container-id-1 input.sk-toggleable__control:checked~label.sk-toggleable__label-arrow:before {content: \"▾\";}#sk-container-id-1 div.sk-estimator input.sk-toggleable__control:checked~label.sk-toggleable__label {background-color: #d4ebff;}#sk-container-id-1 div.sk-label input.sk-toggleable__control:checked~label.sk-toggleable__label {background-color: #d4ebff;}#sk-container-id-1 input.sk-hidden--visually {border: 0;clip: rect(1px 1px 1px 1px);clip: rect(1px, 1px, 1px, 1px);height: 1px;margin: -1px;overflow: hidden;padding: 0;position: absolute;width: 1px;}#sk-container-id-1 div.sk-estimator {font-family: monospace;background-color: #f0f8ff;border: 1px dotted black;border-radius: 0.25em;box-sizing: border-box;margin-bottom: 0.5em;}#sk-container-id-1 div.sk-estimator:hover {background-color: #d4ebff;}#sk-container-id-1 div.sk-parallel-item::after {content: \"\";width: 100%;border-bottom: 1px solid gray;flex-grow: 1;}#sk-container-id-1 div.sk-label:hover label.sk-toggleable__label {background-color: #d4ebff;}#sk-container-id-1 div.sk-serial::before {content: \"\";position: absolute;border-left: 1px solid gray;box-sizing: border-box;top: 0;bottom: 0;left: 50%;z-index: 0;}#sk-container-id-1 div.sk-serial {display: flex;flex-direction: column;align-items: center;background-color: white;padding-right: 0.2em;padding-left: 0.2em;position: relative;}#sk-container-id-1 div.sk-item {position: relative;z-index: 1;}#sk-container-id-1 div.sk-parallel {display: flex;align-items: stretch;justify-content: center;background-color: white;position: relative;}#sk-container-id-1 div.sk-item::before, #sk-container-id-1 div.sk-parallel-item::before {content: \"\";position: absolute;border-left: 1px solid gray;box-sizing: border-box;top: 0;bottom: 0;left: 50%;z-index: -1;}#sk-container-id-1 div.sk-parallel-item {display: flex;flex-direction: column;z-index: 1;position: relative;background-color: white;}#sk-container-id-1 div.sk-parallel-item:first-child::after {align-self: flex-end;width: 50%;}#sk-container-id-1 div.sk-parallel-item:last-child::after {align-self: flex-start;width: 50%;}#sk-container-id-1 div.sk-parallel-item:only-child::after {width: 0;}#sk-container-id-1 div.sk-dashed-wrapped {border: 1px dashed gray;margin: 0 0.4em 0.5em 0.4em;box-sizing: border-box;padding-bottom: 0.4em;background-color: white;}#sk-container-id-1 div.sk-label label {font-family: monospace;font-weight: bold;display: inline-block;line-height: 1.2em;}#sk-container-id-1 div.sk-label-container {text-align: center;}#sk-container-id-1 div.sk-container {/* jupyter's `normalize.less` sets `[hidden] { display: none; }` but bootstrap.min.css set `[hidden] { display: none !important; }` so we also need the `!important` here to be able to override the default hidden behavior on the sphinx rendered scikit-learn.org. See: https://github.com/scikit-learn/scikit-learn/issues/21755 */display: inline-block !important;position: relative;}#sk-container-id-1 div.sk-text-repr-fallback {display: none;}</style><div id=\"sk-container-id-1\" class=\"sk-top-container\"><div class=\"sk-text-repr-fallback\"><pre>Pipeline(steps=[(&#x27;all_column_transformation_poly&#x27;,\n",
              "                 ColumnTransformer(transformers=[(&#x27;poly_features&#x27;,\n",
              "                                                  Pipeline(steps=[(&#x27;imputer&#x27;,\n",
              "                                                                   SimpleImputer(strategy=&#x27;median&#x27;)),\n",
              "                                                                  (&#x27;poly_features&#x27;,\n",
              "                                                                   PolynomialFeatures(include_bias=False))]),\n",
              "                                                  [&#x27;year&#x27;, &#x27;rating&#x27;,\n",
              "                                                   &#x27;num_reviews&#x27;, &#x27;body&#x27;,\n",
              "                                                   &#x27;acidity&#x27;, &#x27;rating_per_year&#x27;,\n",
              "                                                   &#x27;rating_per_reviews&#x27;]),\n",
              "                                                 (&#x27;numeric_stdpreprocessing&#x27;,\n",
              "                                                  Pipeline(steps=[(&#x27;imputer&#x27;,\n",
              "                                                                   SimpleImputer(strategy=&#x27;median&#x27;)),\n",
              "                                                                  (&#x27;stdscaler&#x27;,\n",
              "                                                                   StandardScaler())]),\n",
              "                                                  [&#x27;year&#x27;, &#x27;rating&#x27;,\n",
              "                                                   &#x27;num_reviews&#x27;, &#x27;body&#x27;,\n",
              "                                                   &#x27;acidity&#x27;, &#x27;rating_per_year&#x27;,\n",
              "                                                   &#x27;rating_per_reviews&#x27;])])),\n",
              "                (&#x27;linear_regression&#x27;, LinearRegression())])</pre><b>In a Jupyter environment, please rerun this cell to show the HTML representation or trust the notebook. <br />On GitHub, the HTML representation is unable to render, please try loading this page with nbviewer.org.</b></div><div class=\"sk-container\" hidden><div class=\"sk-item sk-dashed-wrapped\"><div class=\"sk-label-container\"><div class=\"sk-label sk-toggleable\"><input class=\"sk-toggleable__control sk-hidden--visually\" id=\"sk-estimator-id-1\" type=\"checkbox\" ><label for=\"sk-estimator-id-1\" class=\"sk-toggleable__label sk-toggleable__label-arrow\">Pipeline</label><div class=\"sk-toggleable__content\"><pre>Pipeline(steps=[(&#x27;all_column_transformation_poly&#x27;,\n",
              "                 ColumnTransformer(transformers=[(&#x27;poly_features&#x27;,\n",
              "                                                  Pipeline(steps=[(&#x27;imputer&#x27;,\n",
              "                                                                   SimpleImputer(strategy=&#x27;median&#x27;)),\n",
              "                                                                  (&#x27;poly_features&#x27;,\n",
              "                                                                   PolynomialFeatures(include_bias=False))]),\n",
              "                                                  [&#x27;year&#x27;, &#x27;rating&#x27;,\n",
              "                                                   &#x27;num_reviews&#x27;, &#x27;body&#x27;,\n",
              "                                                   &#x27;acidity&#x27;, &#x27;rating_per_year&#x27;,\n",
              "                                                   &#x27;rating_per_reviews&#x27;]),\n",
              "                                                 (&#x27;numeric_stdpreprocessing&#x27;,\n",
              "                                                  Pipeline(steps=[(&#x27;imputer&#x27;,\n",
              "                                                                   SimpleImputer(strategy=&#x27;median&#x27;)),\n",
              "                                                                  (&#x27;stdscaler&#x27;,\n",
              "                                                                   StandardScaler())]),\n",
              "                                                  [&#x27;year&#x27;, &#x27;rating&#x27;,\n",
              "                                                   &#x27;num_reviews&#x27;, &#x27;body&#x27;,\n",
              "                                                   &#x27;acidity&#x27;, &#x27;rating_per_year&#x27;,\n",
              "                                                   &#x27;rating_per_reviews&#x27;])])),\n",
              "                (&#x27;linear_regression&#x27;, LinearRegression())])</pre></div></div></div><div class=\"sk-serial\"><div class=\"sk-item sk-dashed-wrapped\"><div class=\"sk-label-container\"><div class=\"sk-label sk-toggleable\"><input class=\"sk-toggleable__control sk-hidden--visually\" id=\"sk-estimator-id-2\" type=\"checkbox\" ><label for=\"sk-estimator-id-2\" class=\"sk-toggleable__label sk-toggleable__label-arrow\">all_column_transformation_poly: ColumnTransformer</label><div class=\"sk-toggleable__content\"><pre>ColumnTransformer(transformers=[(&#x27;poly_features&#x27;,\n",
              "                                 Pipeline(steps=[(&#x27;imputer&#x27;,\n",
              "                                                  SimpleImputer(strategy=&#x27;median&#x27;)),\n",
              "                                                 (&#x27;poly_features&#x27;,\n",
              "                                                  PolynomialFeatures(include_bias=False))]),\n",
              "                                 [&#x27;year&#x27;, &#x27;rating&#x27;, &#x27;num_reviews&#x27;, &#x27;body&#x27;,\n",
              "                                  &#x27;acidity&#x27;, &#x27;rating_per_year&#x27;,\n",
              "                                  &#x27;rating_per_reviews&#x27;]),\n",
              "                                (&#x27;numeric_stdpreprocessing&#x27;,\n",
              "                                 Pipeline(steps=[(&#x27;imputer&#x27;,\n",
              "                                                  SimpleImputer(strategy=&#x27;median&#x27;)),\n",
              "                                                 (&#x27;stdscaler&#x27;,\n",
              "                                                  StandardScaler())]),\n",
              "                                 [&#x27;year&#x27;, &#x27;rating&#x27;, &#x27;num_reviews&#x27;, &#x27;body&#x27;,\n",
              "                                  &#x27;acidity&#x27;, &#x27;rating_per_year&#x27;,\n",
              "                                  &#x27;rating_per_reviews&#x27;])])</pre></div></div></div><div class=\"sk-parallel\"><div class=\"sk-parallel-item\"><div class=\"sk-item\"><div class=\"sk-label-container\"><div class=\"sk-label sk-toggleable\"><input class=\"sk-toggleable__control sk-hidden--visually\" id=\"sk-estimator-id-3\" type=\"checkbox\" ><label for=\"sk-estimator-id-3\" class=\"sk-toggleable__label sk-toggleable__label-arrow\">poly_features</label><div class=\"sk-toggleable__content\"><pre>[&#x27;year&#x27;, &#x27;rating&#x27;, &#x27;num_reviews&#x27;, &#x27;body&#x27;, &#x27;acidity&#x27;, &#x27;rating_per_year&#x27;, &#x27;rating_per_reviews&#x27;]</pre></div></div></div><div class=\"sk-serial\"><div class=\"sk-item\"><div class=\"sk-serial\"><div class=\"sk-item\"><div class=\"sk-estimator sk-toggleable\"><input class=\"sk-toggleable__control sk-hidden--visually\" id=\"sk-estimator-id-4\" type=\"checkbox\" ><label for=\"sk-estimator-id-4\" class=\"sk-toggleable__label sk-toggleable__label-arrow\">SimpleImputer</label><div class=\"sk-toggleable__content\"><pre>SimpleImputer(strategy=&#x27;median&#x27;)</pre></div></div></div><div class=\"sk-item\"><div class=\"sk-estimator sk-toggleable\"><input class=\"sk-toggleable__control sk-hidden--visually\" id=\"sk-estimator-id-5\" type=\"checkbox\" ><label for=\"sk-estimator-id-5\" class=\"sk-toggleable__label sk-toggleable__label-arrow\">PolynomialFeatures</label><div class=\"sk-toggleable__content\"><pre>PolynomialFeatures(include_bias=False)</pre></div></div></div></div></div></div></div></div><div class=\"sk-parallel-item\"><div class=\"sk-item\"><div class=\"sk-label-container\"><div class=\"sk-label sk-toggleable\"><input class=\"sk-toggleable__control sk-hidden--visually\" id=\"sk-estimator-id-6\" type=\"checkbox\" ><label for=\"sk-estimator-id-6\" class=\"sk-toggleable__label sk-toggleable__label-arrow\">numeric_stdpreprocessing</label><div class=\"sk-toggleable__content\"><pre>[&#x27;year&#x27;, &#x27;rating&#x27;, &#x27;num_reviews&#x27;, &#x27;body&#x27;, &#x27;acidity&#x27;, &#x27;rating_per_year&#x27;, &#x27;rating_per_reviews&#x27;]</pre></div></div></div><div class=\"sk-serial\"><div class=\"sk-item\"><div class=\"sk-serial\"><div class=\"sk-item\"><div class=\"sk-estimator sk-toggleable\"><input class=\"sk-toggleable__control sk-hidden--visually\" id=\"sk-estimator-id-7\" type=\"checkbox\" ><label for=\"sk-estimator-id-7\" class=\"sk-toggleable__label sk-toggleable__label-arrow\">SimpleImputer</label><div class=\"sk-toggleable__content\"><pre>SimpleImputer(strategy=&#x27;median&#x27;)</pre></div></div></div><div class=\"sk-item\"><div class=\"sk-estimator sk-toggleable\"><input class=\"sk-toggleable__control sk-hidden--visually\" id=\"sk-estimator-id-8\" type=\"checkbox\" ><label for=\"sk-estimator-id-8\" class=\"sk-toggleable__label sk-toggleable__label-arrow\">StandardScaler</label><div class=\"sk-toggleable__content\"><pre>StandardScaler()</pre></div></div></div></div></div></div></div></div></div></div><div class=\"sk-item\"><div class=\"sk-estimator sk-toggleable\"><input class=\"sk-toggleable__control sk-hidden--visually\" id=\"sk-estimator-id-9\" type=\"checkbox\" ><label for=\"sk-estimator-id-9\" class=\"sk-toggleable__label sk-toggleable__label-arrow\">LinearRegression</label><div class=\"sk-toggleable__content\"><pre>LinearRegression()</pre></div></div></div></div></div></div></div>"
            ]
          },
          "metadata": {},
          "execution_count": 24
        }
      ]
    },
    {
      "cell_type": "code",
      "source": [
        "fit_and_print(p2_full_pipeline, X_train, y_train, X_test, y_test)"
      ],
      "metadata": {
        "colab": {
          "base_uri": "https://localhost:8080/"
        },
        "id": "X85vytT5RaFf",
        "outputId": "daede918-26c4-4cbd-f77a-779e52fcebe3"
      },
      "execution_count": 25,
      "outputs": [
        {
          "output_type": "stream",
          "name": "stdout",
          "text": [
            "Training Error MAE: 30.363119311877924\n",
            "Test Error MAE: 34.37138432821331\n",
            "R2 score: -0.15185504477109646\n"
          ]
        }
      ]
    },
    {
      "cell_type": "code",
      "source": [
        "# Polynomial Features with degree 3\n",
        "poly_pipeline_degree_3 = Pipeline([('imputer', SimpleImputer(strategy='median')),\n",
        "                                   ('poly_features', PolynomialFeatures(degree=3, include_bias=False))\n",
        "                                  ])\n",
        "\n",
        "# ColumnTransformer with polynomial features of degree 3 and standard preprocessing\n",
        "full_transformer_poly_degree_3 = ColumnTransformer([('poly_features_degree_3', poly_pipeline_degree_3, num_std_attributes),\n",
        "                                                     ('numeric_stdpreprocessing', numeric_std_pipeline, num_std_attributes)\n",
        "                                                    ])\n",
        "\n",
        "# Pipeline with polynomial features of degree 3 and linear regression\n",
        "p3_full_pipeline = Pipeline([('all_column_transformation_poly_degree_3', full_transformer_poly_degree_3),\n",
        "                             ('linear_regression', LinearRegression())\n",
        "                            ])\n",
        "\n",
        "# Fit and print the results\n",
        "fit_and_print(p3_full_pipeline, X_train, y_train, X_test, y_test)"
      ],
      "metadata": {
        "colab": {
          "base_uri": "https://localhost:8080/"
        },
        "id": "jYQMq0I6RepL",
        "outputId": "5a4529cc-5015-4762-86b9-1366e065df1b"
      },
      "execution_count": 26,
      "outputs": [
        {
          "output_type": "stream",
          "name": "stdout",
          "text": [
            "Training Error MAE: 79.4955596920193\n",
            "Test Error MAE: 97.20731708761265\n",
            "R2 score: -0.09060375491228023\n"
          ]
        }
      ]
    },
    {
      "cell_type": "markdown",
      "source": [
        "**Decision Tree**"
      ],
      "metadata": {
        "id": "F0WWBQ-hS5UF"
      }
    },
    {
      "cell_type": "code",
      "source": [
        "from sklearn.tree import DecisionTreeRegressor\n",
        "\n",
        "p4_full_pipeline = Pipeline([('all_column_transformation', full_transformer),\n",
        "                        ('decision_regression', DecisionTreeRegressor())\n",
        "                      ])\n",
        "\n",
        "fit_and_print(p4_full_pipeline, X_train, y_train, X_test, y_test)"
      ],
      "metadata": {
        "colab": {
          "base_uri": "https://localhost:8080/"
        },
        "id": "S8a9pipLSbT5",
        "outputId": "b6892a23-36f3-42d2-c2f6-9c223a2ad6be"
      },
      "execution_count": 27,
      "outputs": [
        {
          "output_type": "stream",
          "name": "stdout",
          "text": [
            "Training Error MAE: 0.7862454260861442\n",
            "Test Error MAE: 28.318596214826705\n",
            "R2 score: -0.06938200620928292\n"
          ]
        }
      ]
    },
    {
      "cell_type": "markdown",
      "source": [
        "**Support Vector Machine**"
      ],
      "metadata": {
        "id": "NCVm70hHTH_V"
      }
    },
    {
      "cell_type": "code",
      "source": [
        "from sklearn.svm import SVR\n",
        "\n",
        "p5_full_pipeline = Pipeline([\n",
        "    ('all_column_transformation', full_transformer),\n",
        "    ('svm_regression', SVR(kernel='rbf'))\n",
        "])\n",
        "\n",
        "fit_and_print(p5_full_pipeline, X_train, y_train, X_test, y_test)\n"
      ],
      "metadata": {
        "colab": {
          "base_uri": "https://localhost:8080/"
        },
        "id": "GuC2s_KMTG6q",
        "outputId": "06b7aa97-500f-4565-f659-a056834cf508"
      },
      "execution_count": 28,
      "outputs": [
        {
          "output_type": "stream",
          "name": "stdout",
          "text": [
            "Training Error MAE: 29.604869464889145\n",
            "Test Error MAE: 35.568114110267146\n",
            "R2 score: -55.48142951486805\n"
          ]
        }
      ]
    },
    {
      "cell_type": "markdown",
      "source": [
        "**Stochastic Gradient Descent**"
      ],
      "metadata": {
        "id": "w0dWCzcqUhr3"
      }
    },
    {
      "cell_type": "code",
      "source": [
        "from sklearn.linear_model import SGDRegressor\n",
        "\n",
        "p6_full_pipeline = Pipeline([('all_column_transformation', full_transformer),\n",
        "                        ('SGD_regression', SGDRegressor(penalty=None))\n",
        "                      ])\n",
        "\n",
        "fit_and_print(p6_full_pipeline, X_train, y_train, X_test, y_test)"
      ],
      "metadata": {
        "colab": {
          "base_uri": "https://localhost:8080/"
        },
        "id": "D1WAQKh2UhXQ",
        "outputId": "8a04310e-3532-4f5d-a14a-85fb7e9e6b83"
      },
      "execution_count": 29,
      "outputs": [
        {
          "output_type": "stream",
          "name": "stdout",
          "text": [
            "Training Error MAE: 41.69604313334996\n",
            "Test Error MAE: 46.70186012931948\n",
            "R2 score: -0.8702819280804681\n"
          ]
        }
      ]
    },
    {
      "cell_type": "markdown",
      "source": [
        "**Ridge Regression**"
      ],
      "metadata": {
        "id": "oRGARL9tU01P"
      }
    },
    {
      "cell_type": "code",
      "source": [
        "p7_full_pipeline = Pipeline([('all_column_transformation', full_transformer),\n",
        "                        ('SGD_regression', SGDRegressor(penalty='l2', eta0=0.1))\n",
        "                      ])\n",
        "\n",
        "fit_and_print(p7_full_pipeline, X_train, y_train, X_test, y_test)"
      ],
      "metadata": {
        "colab": {
          "base_uri": "https://localhost:8080/"
        },
        "id": "f_Np2ATnUz9g",
        "outputId": "3ca5a15e-b8c1-4336-bf8f-180c83e25663"
      },
      "execution_count": 30,
      "outputs": [
        {
          "output_type": "stream",
          "name": "stdout",
          "text": [
            "Training Error MAE: 44.02563330503267\n",
            "Test Error MAE: 50.02810091196396\n",
            "R2 score: -1.1623679032969676\n"
          ]
        }
      ]
    },
    {
      "cell_type": "markdown",
      "source": [
        "**Lasso Regression**"
      ],
      "metadata": {
        "id": "ioYcztupVGi2"
      }
    },
    {
      "cell_type": "code",
      "source": [
        "p8_full_pipeline = Pipeline([('all_column_transformation', full_transformer),\n",
        "                        ('SGD_regression', SGDRegressor(penalty='l1'))\n",
        "                      ])\n",
        "\n",
        "fit_and_print(p8_full_pipeline, X_train, y_train, X_test, y_test)"
      ],
      "metadata": {
        "colab": {
          "base_uri": "https://localhost:8080/"
        },
        "id": "8D07qNJHVJtt",
        "outputId": "477e8fd4-d3e5-49ed-c332-9af7aa7d8a81"
      },
      "execution_count": 31,
      "outputs": [
        {
          "output_type": "stream",
          "name": "stdout",
          "text": [
            "Training Error MAE: 42.883596151160326\n",
            "Test Error MAE: 47.77486344120096\n",
            "R2 score: -0.8044236820435264\n"
          ]
        }
      ]
    },
    {
      "cell_type": "markdown",
      "source": [
        "**Random Forest**"
      ],
      "metadata": {
        "id": "yD-8dkz6Vhjj"
      }
    },
    {
      "cell_type": "code",
      "source": [
        "from sklearn.ensemble import RandomForestRegressor\n",
        "\n",
        "p9_full_pipeline = Pipeline([('all_column_transformation', full_transformer),\n",
        "                          ('RF_regression', RandomForestRegressor())\n",
        "                          ])\n",
        "\n",
        "fit_and_print(p9_full_pipeline, X_train, y_train, X_test, y_test)"
      ],
      "metadata": {
        "colab": {
          "base_uri": "https://localhost:8080/"
        },
        "id": "ROAsErmPVajT",
        "outputId": "8f6e3749-d748-48aa-b57c-828c27070d09"
      },
      "execution_count": 32,
      "outputs": [
        {
          "output_type": "stream",
          "name": "stdout",
          "text": [
            "Training Error MAE: 8.459528454792316\n",
            "Test Error MAE: 24.276054566446664\n",
            "R2 score: 0.09828398117088255\n"
          ]
        }
      ]
    },
    {
      "cell_type": "markdown",
      "source": [
        "**The best model is Random Forest**"
      ],
      "metadata": {
        "id": "7Sjj0cgeX_eN"
      }
    },
    {
      "cell_type": "code",
      "source": [
        "from sklearn.model_selection import GridSearchCV\n",
        "\n",
        "# Define the parameter grid to search\n",
        "param_grid = [\n",
        "              {'RF_regression__n_estimators': [10, 50, 100],\n",
        "              'RF_regression__max_depth': [5, 10, 20],\n",
        "              'RF_regression__min_samples_split': [2, 4, 6],\n",
        "              'RF_regression__min_samples_leaf': [1, 2, 4]}\n",
        "            ]\n",
        "\n",
        "# Instantiate GridSearchCV\n",
        "grid_search = GridSearchCV(estimator=p9_full_pipeline, param_grid=param_grid, cv=3, scoring='neg_mean_squared_error')"
      ],
      "metadata": {
        "id": "4GXX87OAYNoO"
      },
      "execution_count": 33,
      "outputs": []
    },
    {
      "cell_type": "code",
      "source": [
        "# Perform the grid search\n",
        "grid_search.fit(X_train,y_train)"
      ],
      "metadata": {
        "colab": {
          "base_uri": "https://localhost:8080/",
          "height": 249
        },
        "id": "71LcIF4yZtC-",
        "outputId": "1fd04703-dbb2-411d-994d-32fe8b03aa7e"
      },
      "execution_count": 34,
      "outputs": [
        {
          "output_type": "execute_result",
          "data": {
            "text/plain": [
              "GridSearchCV(cv=3,\n",
              "             estimator=Pipeline(steps=[('all_column_transformation',\n",
              "                                        ColumnTransformer(transformers=[('numeric_stdpreprocessing',\n",
              "                                                                         Pipeline(steps=[('imputer',\n",
              "                                                                                          SimpleImputer(strategy='median')),\n",
              "                                                                                         ('stdscaler',\n",
              "                                                                                          StandardScaler())]),\n",
              "                                                                         ['year',\n",
              "                                                                          'rating',\n",
              "                                                                          'num_reviews',\n",
              "                                                                          'body',\n",
              "                                                                          'acidity',\n",
              "                                                                          'rating_per_year',\n",
              "                                                                          'rating_per_reviews'])])),\n",
              "                                       ('RF_regression',\n",
              "                                        RandomForestRegressor())]),\n",
              "             param_grid=[{'RF_regression__max_depth': [5, 10, 20],\n",
              "                          'RF_regression__min_samples_leaf': [1, 2, 4],\n",
              "                          'RF_regression__min_samples_split': [2, 4, 6],\n",
              "                          'RF_regression__n_estimators': [10, 50, 100]}],\n",
              "             scoring='neg_mean_squared_error')"
            ],
            "text/html": [
              "<style>#sk-container-id-2 {color: black;background-color: white;}#sk-container-id-2 pre{padding: 0;}#sk-container-id-2 div.sk-toggleable {background-color: white;}#sk-container-id-2 label.sk-toggleable__label {cursor: pointer;display: block;width: 100%;margin-bottom: 0;padding: 0.3em;box-sizing: border-box;text-align: center;}#sk-container-id-2 label.sk-toggleable__label-arrow:before {content: \"▸\";float: left;margin-right: 0.25em;color: #696969;}#sk-container-id-2 label.sk-toggleable__label-arrow:hover:before {color: black;}#sk-container-id-2 div.sk-estimator:hover label.sk-toggleable__label-arrow:before {color: black;}#sk-container-id-2 div.sk-toggleable__content {max-height: 0;max-width: 0;overflow: hidden;text-align: left;background-color: #f0f8ff;}#sk-container-id-2 div.sk-toggleable__content pre {margin: 0.2em;color: black;border-radius: 0.25em;background-color: #f0f8ff;}#sk-container-id-2 input.sk-toggleable__control:checked~div.sk-toggleable__content {max-height: 200px;max-width: 100%;overflow: auto;}#sk-container-id-2 input.sk-toggleable__control:checked~label.sk-toggleable__label-arrow:before {content: \"▾\";}#sk-container-id-2 div.sk-estimator input.sk-toggleable__control:checked~label.sk-toggleable__label {background-color: #d4ebff;}#sk-container-id-2 div.sk-label input.sk-toggleable__control:checked~label.sk-toggleable__label {background-color: #d4ebff;}#sk-container-id-2 input.sk-hidden--visually {border: 0;clip: rect(1px 1px 1px 1px);clip: rect(1px, 1px, 1px, 1px);height: 1px;margin: -1px;overflow: hidden;padding: 0;position: absolute;width: 1px;}#sk-container-id-2 div.sk-estimator {font-family: monospace;background-color: #f0f8ff;border: 1px dotted black;border-radius: 0.25em;box-sizing: border-box;margin-bottom: 0.5em;}#sk-container-id-2 div.sk-estimator:hover {background-color: #d4ebff;}#sk-container-id-2 div.sk-parallel-item::after {content: \"\";width: 100%;border-bottom: 1px solid gray;flex-grow: 1;}#sk-container-id-2 div.sk-label:hover label.sk-toggleable__label {background-color: #d4ebff;}#sk-container-id-2 div.sk-serial::before {content: \"\";position: absolute;border-left: 1px solid gray;box-sizing: border-box;top: 0;bottom: 0;left: 50%;z-index: 0;}#sk-container-id-2 div.sk-serial {display: flex;flex-direction: column;align-items: center;background-color: white;padding-right: 0.2em;padding-left: 0.2em;position: relative;}#sk-container-id-2 div.sk-item {position: relative;z-index: 1;}#sk-container-id-2 div.sk-parallel {display: flex;align-items: stretch;justify-content: center;background-color: white;position: relative;}#sk-container-id-2 div.sk-item::before, #sk-container-id-2 div.sk-parallel-item::before {content: \"\";position: absolute;border-left: 1px solid gray;box-sizing: border-box;top: 0;bottom: 0;left: 50%;z-index: -1;}#sk-container-id-2 div.sk-parallel-item {display: flex;flex-direction: column;z-index: 1;position: relative;background-color: white;}#sk-container-id-2 div.sk-parallel-item:first-child::after {align-self: flex-end;width: 50%;}#sk-container-id-2 div.sk-parallel-item:last-child::after {align-self: flex-start;width: 50%;}#sk-container-id-2 div.sk-parallel-item:only-child::after {width: 0;}#sk-container-id-2 div.sk-dashed-wrapped {border: 1px dashed gray;margin: 0 0.4em 0.5em 0.4em;box-sizing: border-box;padding-bottom: 0.4em;background-color: white;}#sk-container-id-2 div.sk-label label {font-family: monospace;font-weight: bold;display: inline-block;line-height: 1.2em;}#sk-container-id-2 div.sk-label-container {text-align: center;}#sk-container-id-2 div.sk-container {/* jupyter's `normalize.less` sets `[hidden] { display: none; }` but bootstrap.min.css set `[hidden] { display: none !important; }` so we also need the `!important` here to be able to override the default hidden behavior on the sphinx rendered scikit-learn.org. See: https://github.com/scikit-learn/scikit-learn/issues/21755 */display: inline-block !important;position: relative;}#sk-container-id-2 div.sk-text-repr-fallback {display: none;}</style><div id=\"sk-container-id-2\" class=\"sk-top-container\"><div class=\"sk-text-repr-fallback\"><pre>GridSearchCV(cv=3,\n",
              "             estimator=Pipeline(steps=[(&#x27;all_column_transformation&#x27;,\n",
              "                                        ColumnTransformer(transformers=[(&#x27;numeric_stdpreprocessing&#x27;,\n",
              "                                                                         Pipeline(steps=[(&#x27;imputer&#x27;,\n",
              "                                                                                          SimpleImputer(strategy=&#x27;median&#x27;)),\n",
              "                                                                                         (&#x27;stdscaler&#x27;,\n",
              "                                                                                          StandardScaler())]),\n",
              "                                                                         [&#x27;year&#x27;,\n",
              "                                                                          &#x27;rating&#x27;,\n",
              "                                                                          &#x27;num_reviews&#x27;,\n",
              "                                                                          &#x27;body&#x27;,\n",
              "                                                                          &#x27;acidity&#x27;,\n",
              "                                                                          &#x27;rating_per_year&#x27;,\n",
              "                                                                          &#x27;rating_per_reviews&#x27;])])),\n",
              "                                       (&#x27;RF_regression&#x27;,\n",
              "                                        RandomForestRegressor())]),\n",
              "             param_grid=[{&#x27;RF_regression__max_depth&#x27;: [5, 10, 20],\n",
              "                          &#x27;RF_regression__min_samples_leaf&#x27;: [1, 2, 4],\n",
              "                          &#x27;RF_regression__min_samples_split&#x27;: [2, 4, 6],\n",
              "                          &#x27;RF_regression__n_estimators&#x27;: [10, 50, 100]}],\n",
              "             scoring=&#x27;neg_mean_squared_error&#x27;)</pre><b>In a Jupyter environment, please rerun this cell to show the HTML representation or trust the notebook. <br />On GitHub, the HTML representation is unable to render, please try loading this page with nbviewer.org.</b></div><div class=\"sk-container\" hidden><div class=\"sk-item sk-dashed-wrapped\"><div class=\"sk-label-container\"><div class=\"sk-label sk-toggleable\"><input class=\"sk-toggleable__control sk-hidden--visually\" id=\"sk-estimator-id-10\" type=\"checkbox\" ><label for=\"sk-estimator-id-10\" class=\"sk-toggleable__label sk-toggleable__label-arrow\">GridSearchCV</label><div class=\"sk-toggleable__content\"><pre>GridSearchCV(cv=3,\n",
              "             estimator=Pipeline(steps=[(&#x27;all_column_transformation&#x27;,\n",
              "                                        ColumnTransformer(transformers=[(&#x27;numeric_stdpreprocessing&#x27;,\n",
              "                                                                         Pipeline(steps=[(&#x27;imputer&#x27;,\n",
              "                                                                                          SimpleImputer(strategy=&#x27;median&#x27;)),\n",
              "                                                                                         (&#x27;stdscaler&#x27;,\n",
              "                                                                                          StandardScaler())]),\n",
              "                                                                         [&#x27;year&#x27;,\n",
              "                                                                          &#x27;rating&#x27;,\n",
              "                                                                          &#x27;num_reviews&#x27;,\n",
              "                                                                          &#x27;body&#x27;,\n",
              "                                                                          &#x27;acidity&#x27;,\n",
              "                                                                          &#x27;rating_per_year&#x27;,\n",
              "                                                                          &#x27;rating_per_reviews&#x27;])])),\n",
              "                                       (&#x27;RF_regression&#x27;,\n",
              "                                        RandomForestRegressor())]),\n",
              "             param_grid=[{&#x27;RF_regression__max_depth&#x27;: [5, 10, 20],\n",
              "                          &#x27;RF_regression__min_samples_leaf&#x27;: [1, 2, 4],\n",
              "                          &#x27;RF_regression__min_samples_split&#x27;: [2, 4, 6],\n",
              "                          &#x27;RF_regression__n_estimators&#x27;: [10, 50, 100]}],\n",
              "             scoring=&#x27;neg_mean_squared_error&#x27;)</pre></div></div></div><div class=\"sk-parallel\"><div class=\"sk-parallel-item\"><div class=\"sk-item\"><div class=\"sk-label-container\"><div class=\"sk-label sk-toggleable\"><input class=\"sk-toggleable__control sk-hidden--visually\" id=\"sk-estimator-id-11\" type=\"checkbox\" ><label for=\"sk-estimator-id-11\" class=\"sk-toggleable__label sk-toggleable__label-arrow\">estimator: Pipeline</label><div class=\"sk-toggleable__content\"><pre>Pipeline(steps=[(&#x27;all_column_transformation&#x27;,\n",
              "                 ColumnTransformer(transformers=[(&#x27;numeric_stdpreprocessing&#x27;,\n",
              "                                                  Pipeline(steps=[(&#x27;imputer&#x27;,\n",
              "                                                                   SimpleImputer(strategy=&#x27;median&#x27;)),\n",
              "                                                                  (&#x27;stdscaler&#x27;,\n",
              "                                                                   StandardScaler())]),\n",
              "                                                  [&#x27;year&#x27;, &#x27;rating&#x27;,\n",
              "                                                   &#x27;num_reviews&#x27;, &#x27;body&#x27;,\n",
              "                                                   &#x27;acidity&#x27;, &#x27;rating_per_year&#x27;,\n",
              "                                                   &#x27;rating_per_reviews&#x27;])])),\n",
              "                (&#x27;RF_regression&#x27;, RandomForestRegressor())])</pre></div></div></div><div class=\"sk-serial\"><div class=\"sk-item\"><div class=\"sk-serial\"><div class=\"sk-item sk-dashed-wrapped\"><div class=\"sk-label-container\"><div class=\"sk-label sk-toggleable\"><input class=\"sk-toggleable__control sk-hidden--visually\" id=\"sk-estimator-id-12\" type=\"checkbox\" ><label for=\"sk-estimator-id-12\" class=\"sk-toggleable__label sk-toggleable__label-arrow\">all_column_transformation: ColumnTransformer</label><div class=\"sk-toggleable__content\"><pre>ColumnTransformer(transformers=[(&#x27;numeric_stdpreprocessing&#x27;,\n",
              "                                 Pipeline(steps=[(&#x27;imputer&#x27;,\n",
              "                                                  SimpleImputer(strategy=&#x27;median&#x27;)),\n",
              "                                                 (&#x27;stdscaler&#x27;,\n",
              "                                                  StandardScaler())]),\n",
              "                                 [&#x27;year&#x27;, &#x27;rating&#x27;, &#x27;num_reviews&#x27;, &#x27;body&#x27;,\n",
              "                                  &#x27;acidity&#x27;, &#x27;rating_per_year&#x27;,\n",
              "                                  &#x27;rating_per_reviews&#x27;])])</pre></div></div></div><div class=\"sk-parallel\"><div class=\"sk-parallel-item\"><div class=\"sk-item\"><div class=\"sk-label-container\"><div class=\"sk-label sk-toggleable\"><input class=\"sk-toggleable__control sk-hidden--visually\" id=\"sk-estimator-id-13\" type=\"checkbox\" ><label for=\"sk-estimator-id-13\" class=\"sk-toggleable__label sk-toggleable__label-arrow\">numeric_stdpreprocessing</label><div class=\"sk-toggleable__content\"><pre>[&#x27;year&#x27;, &#x27;rating&#x27;, &#x27;num_reviews&#x27;, &#x27;body&#x27;, &#x27;acidity&#x27;, &#x27;rating_per_year&#x27;, &#x27;rating_per_reviews&#x27;]</pre></div></div></div><div class=\"sk-serial\"><div class=\"sk-item\"><div class=\"sk-serial\"><div class=\"sk-item\"><div class=\"sk-estimator sk-toggleable\"><input class=\"sk-toggleable__control sk-hidden--visually\" id=\"sk-estimator-id-14\" type=\"checkbox\" ><label for=\"sk-estimator-id-14\" class=\"sk-toggleable__label sk-toggleable__label-arrow\">SimpleImputer</label><div class=\"sk-toggleable__content\"><pre>SimpleImputer(strategy=&#x27;median&#x27;)</pre></div></div></div><div class=\"sk-item\"><div class=\"sk-estimator sk-toggleable\"><input class=\"sk-toggleable__control sk-hidden--visually\" id=\"sk-estimator-id-15\" type=\"checkbox\" ><label for=\"sk-estimator-id-15\" class=\"sk-toggleable__label sk-toggleable__label-arrow\">StandardScaler</label><div class=\"sk-toggleable__content\"><pre>StandardScaler()</pre></div></div></div></div></div></div></div></div></div></div><div class=\"sk-item\"><div class=\"sk-estimator sk-toggleable\"><input class=\"sk-toggleable__control sk-hidden--visually\" id=\"sk-estimator-id-16\" type=\"checkbox\" ><label for=\"sk-estimator-id-16\" class=\"sk-toggleable__label sk-toggleable__label-arrow\">RandomForestRegressor</label><div class=\"sk-toggleable__content\"><pre>RandomForestRegressor()</pre></div></div></div></div></div></div></div></div></div></div></div></div>"
            ]
          },
          "metadata": {},
          "execution_count": 34
        }
      ]
    },
    {
      "cell_type": "code",
      "source": [
        "# Best parameters found\n",
        "print(\"Best parameters found:\")\n",
        "print(grid_search.best_params_)"
      ],
      "metadata": {
        "colab": {
          "base_uri": "https://localhost:8080/"
        },
        "id": "96Chvp4mpR7J",
        "outputId": "d0c1d3b3-c55c-4eb2-dee5-d2da825284cf"
      },
      "execution_count": 35,
      "outputs": [
        {
          "output_type": "stream",
          "name": "stdout",
          "text": [
            "Best parameters found:\n",
            "{'RF_regression__max_depth': 10, 'RF_regression__min_samples_leaf': 2, 'RF_regression__min_samples_split': 2, 'RF_regression__n_estimators': 50}\n"
          ]
        }
      ]
    },
    {
      "cell_type": "code",
      "source": [
        "p10_full_pipeline = Pipeline([('all_column_transformation', full_transformer),\n",
        "                          ('RF_regression', RandomForestRegressor(max_depth=10, min_samples_leaf=5, min_samples_split=8, n_estimators=50))\n",
        "                          ])\n",
        "\n",
        "fit_and_print(p10_full_pipeline, X_train, y_train, X_test, y_test)"
      ],
      "metadata": {
        "colab": {
          "base_uri": "https://localhost:8080/"
        },
        "id": "WkzZap8fpZNG",
        "outputId": "1d9cd71b-bba8-431f-ed36-444df7ff5321"
      },
      "execution_count": 36,
      "outputs": [
        {
          "output_type": "stream",
          "name": "stdout",
          "text": [
            "Training Error MAE: 17.26466142806263\n",
            "Test Error MAE: 25.120005682111554\n",
            "R2 score: 0.015474705179706505\n"
          ]
        }
      ]
    }
  ]
}